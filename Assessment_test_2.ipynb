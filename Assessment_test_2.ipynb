{
 "cells": [
  {
   "cell_type": "markdown",
   "metadata": {},
   "source": [
    "# Assessment test #2\n",
    "\n",
    "These are the questions associated with the second assessment test for The Complete SQL Bootcamp by Jose Portila\n",
    "  "
   ]
  },
  {
   "cell_type": "code",
   "execution_count": null,
   "metadata": {},
   "outputs": [],
   "source": [
    "import pandas as pd\n",
    "from main import execute_query\n",
    "\n",
    "dbname = 'exercises'"
   ]
  },
  {
   "cell_type": "markdown",
   "metadata": {},
   "source": [
    "1 How can you retrieve all the information from the cd.facilities table?"
   ]
  },
  {
   "cell_type": "code",
   "execution_count": null,
   "metadata": {},
   "outputs": [],
   "source": [
    "sql_query = \"SELECT * FROM cd.facilities\"\n",
    "df = execute_query(sql_query, dbname)\n",
    "print(df)"
   ]
  },
  {
   "cell_type": "markdown",
   "metadata": {},
   "source": [
    "2 You want to print out a list of all of the facilities and their cost to members. How would you retrieve a list of only facility names and costs?"
   ]
  },
  {
   "cell_type": "code",
   "execution_count": null,
   "metadata": {},
   "outputs": [],
   "source": [
    "sql_query = \"SELECT name,membercost FROM cd.facilities\"\n",
    "df = execute_query(sql_query, dbname)\n",
    "print(df)"
   ]
  },
  {
   "cell_type": "markdown",
   "metadata": {},
   "source": [
    "3 How can you produce a list of facilities that charge a fee to members?"
   ]
  },
  {
   "cell_type": "code",
   "execution_count": null,
   "metadata": {},
   "outputs": [],
   "source": [
    "sql_query = \"\"\"\n",
    "SELECT name,membercost\n",
    "FROM cd.facilities\n",
    "WHERE membercost > 0\"\"\"\n",
    "\n",
    "df = execute_query(sql_query, dbname)\n",
    "print(df)"
   ]
  },
  {
   "cell_type": "markdown",
   "metadata": {},
   "source": [
    "4 How can you produce a list of facilities that charge a fee to members, and that fee is less than 1/50th of the monthly maintenance cost? Return the facid, facility name, member cost, and monthly maintenance of the facilities in question.\n",
    "\n",
    "NOTE: Aliases aren't allowed in where statements"
   ]
  },
  {
   "cell_type": "code",
   "execution_count": null,
   "metadata": {},
   "outputs": [],
   "source": [
    "sql_query = \"\"\"\n",
    "SELECT facid, name, membercost, monthlymaintenance, membercost/monthlymaintenance AS ratio\n",
    "FROM cd.facilities\n",
    "WHERE membercost > 0\n",
    "AND membercost/monthlymaintenance < 0.02\n",
    "\"\"\"\n",
    "\n",
    "df = execute_query(sql_query, dbname)\n",
    "print(df)"
   ]
  },
  {
   "cell_type": "markdown",
   "metadata": {},
   "source": [
    "5 How can you produce a list of all facilities with the word 'Tennis' in their name?"
   ]
  },
  {
   "cell_type": "code",
   "execution_count": null,
   "metadata": {},
   "outputs": [],
   "source": [
    "sql_query = \"\"\"\n",
    "SELECT facid, name, membercost, monthlymaintenance, membercost/monthlymaintenance AS ratio\n",
    "FROM cd.facilities\n",
    "WHERE lower(name) LIKE '%tennis%'\n",
    "\"\"\"\n",
    "\n",
    "df = execute_query(sql_query, dbname)\n",
    "print(df)"
   ]
  },
  {
   "cell_type": "markdown",
   "metadata": {},
   "source": [
    "6 How can you retrieve the details of facilities with ID 1 and 5? Try to do it without using the OR operator."
   ]
  },
  {
   "cell_type": "code",
   "execution_count": null,
   "metadata": {},
   "outputs": [],
   "source": [
    "sql_query = \"\"\"\n",
    "SELECT facid, name, membercost, monthlymaintenance, membercost/monthlymaintenance AS ratio\n",
    "FROM cd.facilities\n",
    "WHERE facid IN (1,5)\n",
    "\"\"\"\n",
    "\n",
    "df = execute_query(sql_query, dbname)\n",
    "print(df)"
   ]
  },
  {
   "cell_type": "markdown",
   "metadata": {},
   "source": [
    "7 How can you produce a list of members who joined after the start of September 2012? Return the memid, surname, firstname, and joindate of the members in question."
   ]
  },
  {
   "cell_type": "code",
   "execution_count": null,
   "metadata": {},
   "outputs": [],
   "source": [
    "sql_query = \"\"\"\n",
    "SELECT memid, surname, firstname, joindate\n",
    "FROM cd.members\n",
    "WHERE joindate >= '2012-09-01'\n",
    "\"\"\"\n",
    "\n",
    "df = execute_query(sql_query, dbname)\n",
    "print(df)"
   ]
  },
  {
   "cell_type": "markdown",
   "metadata": {},
   "source": [
    "8 How can you produce an ordered list of the first 10 surnames in the members table? The list must not contain duplicates."
   ]
  },
  {
   "cell_type": "code",
   "execution_count": null,
   "metadata": {},
   "outputs": [],
   "source": [
    "sql_query = \"\"\"\n",
    "SELECT DISTINCT surname\n",
    "FROM cd.members\n",
    "ORDER BY surname\n",
    "LIMIT 10\n",
    "\"\"\"\n",
    "\n",
    "df = execute_query(sql_query, dbname)\n",
    "print(df)"
   ]
  },
  {
   "cell_type": "markdown",
   "metadata": {},
   "source": [
    "9 You'd like to get the signup date of your last member. How can you retrieve this information?"
   ]
  },
  {
   "cell_type": "code",
   "execution_count": null,
   "metadata": {},
   "outputs": [],
   "source": [
    "sql_query = \"\"\"\n",
    "SELECT memid, surname, firstname, joindate\n",
    "FROM cd.members\n",
    "ORDER BY joindate DESC\n",
    "LIMIT 1\n",
    "\"\"\"\n",
    "\n",
    "df = execute_query(sql_query, dbname)\n",
    "print(df)"
   ]
  },
  {
   "cell_type": "markdown",
   "metadata": {},
   "source": [
    "10 Produce a count of the number of facilities that have a cost to guests of 10 or more."
   ]
  },
  {
   "cell_type": "code",
   "execution_count": null,
   "metadata": {},
   "outputs": [],
   "source": [
    "sql_query = \"\"\"\n",
    "SELECT COUNT(guestcost)\n",
    "FROM cd.facilities\n",
    "WHERE guestcost > 10\n",
    "\"\"\"\n",
    "\n",
    "df = execute_query(sql_query, dbname)\n",
    "print(df)"
   ]
  },
  {
   "cell_type": "markdown",
   "metadata": {},
   "source": [
    "11 Skip this one, no question for #11."
   ]
  },
  {
   "cell_type": "markdown",
   "metadata": {},
   "source": [
    "12 Produce a list of the total number of slots booked per facility in the month of September 2012. Produce an output table consisting of facility id and slots, sorted by the number of slots."
   ]
  },
  {
   "cell_type": "code",
   "execution_count": null,
   "metadata": {},
   "outputs": [],
   "source": [
    "sql_query = \"\"\"\n",
    "SELECT facid, SUM(slots)\n",
    "FROM cd.bookings\n",
    "WHERE EXTRACT(month from starttime) = 9\n",
    "GROUP BY facid\n",
    "ORDER BY SUM(slots)\n",
    "\"\"\"\n",
    "\n",
    "df = execute_query(sql_query, dbname)\n",
    "print(df)"
   ]
  },
  {
   "cell_type": "markdown",
   "metadata": {},
   "source": [
    "13 Produce a list of facilities with more than 1000 slots booked. Produce an output table consisting of facility id and total slots, sorted by facility id."
   ]
  },
  {
   "cell_type": "code",
   "execution_count": null,
   "metadata": {},
   "outputs": [],
   "source": [
    "sql_query = \"\"\"\n",
    "SELECT facid, SUM(slots) as total_slots\n",
    "FROM cd.bookings\n",
    "GROUP BY facid\n",
    "HAVING SUM(slots) > 1000\n",
    "ORDER BY facid\n",
    "\"\"\"\n",
    "\n",
    "df = execute_query(sql_query, dbname)\n",
    "print(df)"
   ]
  },
  {
   "cell_type": "markdown",
   "metadata": {},
   "source": [
    "14 How can you produce a list of the start times for bookings for tennis courts, for the date '2012-09-21'? Return a list of start time and facility name pairings, ordered by the time."
   ]
  },
  {
   "cell_type": "code",
   "execution_count": null,
   "metadata": {},
   "outputs": [],
   "source": [
    "sql_query = \"\"\"\n",
    "SELECT cd.bookings.facid, name, cd.bookings.starttime\n",
    "FROM cd.bookings\n",
    "INNER JOIN cd.facilities\n",
    "ON cd.bookings.facid = cd.facilities.facid\n",
    "WHERE starttime::timestamp::date = '2012-09-21'\n",
    "\"\"\"\n",
    "\n",
    "df = execute_query(sql_query, dbname)\n",
    "print(df)"
   ]
  },
  {
   "cell_type": "markdown",
   "metadata": {},
   "source": [
    "15 How can you produce a list of the start times for bookings by members named 'David Farrell'?"
   ]
  },
  {
   "cell_type": "code",
   "execution_count": null,
   "metadata": {},
   "outputs": [],
   "source": [
    "# sql_query = \"\"\"\n",
    "# SELECT cd.bookings.facid, name, cd.bookings.starttime\n",
    "# FROM cd.bookings\n",
    "# INNER JOIN cd.facilities\n",
    "# ON cd.bookings.facid = cd.facilities.facid\n",
    "# WHERE starttime::timestamp::date = '2012-09-21'\n",
    "# \"\"\"\n",
    "\n",
    "sql_query = \"\"\"\n",
    "SELECT facid, cd.members.memid, firstname || ' ' || surname AS fullname, starttime\n",
    "FROM cd.members\n",
    "JOIN cd.bookings\n",
    "ON cd.bookings.memid = cd.members.memid\n",
    "WHERE firstname || ' ' || surname = 'David Farrell'\n",
    "\"\"\"\n",
    "\n",
    "df = execute_query(sql_query, dbname)\n",
    "print(df)"
   ]
  },
  {
   "cell_type": "code",
   "execution_count": null,
   "metadata": {},
   "outputs": [],
   "source": []
  }
 ],
 "metadata": {
  "kernelspec": {
   "display_name": "Python 3",
   "language": "python",
   "name": "python3"
  },
  "language_info": {
   "codemirror_mode": {
    "name": "ipython",
    "version": 3
   },
   "file_extension": ".py",
   "mimetype": "text/x-python",
   "name": "python",
   "nbconvert_exporter": "python",
   "pygments_lexer": "ipython3",
   "version": "3.6.3"
  }
 },
 "nbformat": 4,
 "nbformat_minor": 2
}
